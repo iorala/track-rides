{
 "cells": [
  {
   "cell_type": "code",
   "execution_count": 37,
   "id": "b60fd5f4",
   "metadata": {},
   "outputs": [],
   "source": [
    "# Modul gpxpy laden und Dateien damit einlesen (snippets von https://pypi.org/project/gpxpy/)\n",
    "import gpxpy\n",
    "import gpxpy.gpx\n",
    "import pandas as pd\n",
    "import numpy as np"
   ]
  },
  {
   "cell_type": "code",
   "execution_count": 31,
   "id": "6a7ab38a",
   "metadata": {},
   "outputs": [],
   "source": [
    "def read_gpx(filename):\n",
    "    gpx_file = open(filename, 'r')\n",
    "    gpx = gpxpy.parse(gpx_file)\n",
    "    return gpx"
   ]
  },
  {
   "cell_type": "code",
   "execution_count": 32,
   "id": "242945df",
   "metadata": {},
   "outputs": [],
   "source": [
    "gpx=read_gpx('activity_zoo.gpx')"
   ]
  },
  {
   "cell_type": "markdown",
   "id": "a90c5528",
   "metadata": {},
   "source": [
    "- Funktionen in gpxo beheben "
   ]
  },
  {
   "cell_type": "code",
   "execution_count": 34,
   "id": "ea564052",
   "metadata": {},
   "outputs": [],
   "source": [
    "track = 0\n",
    "segment = 0 "
   ]
  },
  {
   "cell_type": "code",
   "execution_count": 38,
   "id": "5948a4e1",
   "metadata": {},
   "outputs": [],
   "source": [
    "elevation = np.array([pt.elevation for pt in pts])"
   ]
  },
  {
   "cell_type": "code",
   "execution_count": 41,
   "id": "68d71471",
   "metadata": {},
   "outputs": [
    {
     "data": {
      "text/plain": [
       "dtype('float64')"
      ]
     },
     "execution_count": 41,
     "metadata": {},
     "output_type": "execute_result"
    }
   ],
   "source": [
    "elevation[1].dtype"
   ]
  },
  {
   "cell_type": "code",
   "execution_count": 45,
   "id": "d19640f8",
   "metadata": {},
   "outputs": [
    {
     "data": {
      "text/plain": [
       "array([610.59997559, 610.59997559, 610.59997559, 610.59997559,\n",
       "       610.59997559, 608.20001221, 607.59997559, 607.20001221,\n",
       "       607.20001221, 606.40002441, 606.20001221, 604.40002441,\n",
       "       602.59997559, 602.        , 600.        , 598.20001221,\n",
       "       597.        , 594.79998779, 592.        , 591.        ,\n",
       "       590.40002441, 589.79998779, 589.40002441, 587.40002441,\n",
       "       587.40002441, 587.        , 585.59997559, 585.59997559,\n",
       "       584.59997559, 583.40002441, 581.40002441, 581.20001221,\n",
       "       579.40002441, 577.79998779, 575.20001221, 573.59997559,\n",
       "       571.20001221, 568.59997559, 567.40002441, 565.59997559,\n",
       "       563.40002441, 561.79998779, 558.79998779, 556.59997559,\n",
       "       555.        , 554.20001221, 553.        , 551.        ,\n",
       "       550.        , 549.59997559, 547.79998779, 547.40002441,\n",
       "       545.79998779, 545.40002441, 543.59997559, 541.20001221,\n",
       "       540.59997559, 538.79998779, 538.        , 537.        ,\n",
       "       536.59997559, 535.40002441, 535.40002441, 535.59997559,\n",
       "       535.79998779, 536.20001221, 533.40002441, 533.20001221,\n",
       "       532.40002441, 530.59997559, 530.        , 529.20001221,\n",
       "       527.40002441, 526.79998779, 526.20001221, 524.40002441,\n",
       "       523.40002441, 522.20001221, 520.59997559, 519.40002441,\n",
       "       518.79998779, 517.59997559, 516.79998779, 516.40002441,\n",
       "       515.20001221, 514.20001221, 513.59997559, 512.40002441,\n",
       "       512.        , 511.20001221, 510.79998779, 510.20001221,\n",
       "       509.3999939 , 509.20001221, 508.20001221, 507.        ,\n",
       "       505.79998779, 504.        , 502.79998779, 502.6000061 ,\n",
       "       502.20001221, 500.6000061 , 500.20001221, 498.20001221,\n",
       "       495.79998779, 494.3999939 , 493.20001221, 489.20001221,\n",
       "       487.        , 485.79998779, 485.6000061 , 484.20001221,\n",
       "       482.79998779, 482.20001221, 482.20001221, 481.6000061 ,\n",
       "       480.6000061 , 480.        , 477.6000061 , 476.6000061 ,\n",
       "       476.        , 475.20001221, 474.        , 473.        ,\n",
       "       472.20001221, 471.79998779, 471.79998779, 471.6000061 ,\n",
       "       471.        , 470.3999939 , 469.        , 467.3999939 ,\n",
       "       465.20001221, 465.        , 464.6000061 , 464.20001221,\n",
       "       463.3999939 , 462.79998779, 462.3999939 , 462.20001221,\n",
       "       461.3999939 , 459.79998779, 457.79998779, 456.6000061 ,\n",
       "       455.        , 454.6000061 , 454.20001221, 453.20001221,\n",
       "       451.79998779, 451.79998779, 451.79998779, 452.20001221,\n",
       "       452.        , 452.20001221, 452.20001221, 452.20001221,\n",
       "       451.79998779, 451.6000061 , 451.        , 450.        ,\n",
       "       449.79998779, 448.20001221, 447.        , 445.3999939 ,\n",
       "       444.3999939 , 444.        , 444.        , 443.6000061 ,\n",
       "       443.20001221, 443.        , 443.        , 443.20001221,\n",
       "       442.3999939 , 442.20001221, 441.6000061 , 440.20001221,\n",
       "       439.6000061 , 439.        , 437.6000061 , 436.6000061 ,\n",
       "       434.6000061 , 434.3999939 , 434.20001221, 432.79998779,\n",
       "       431.79998779, 430.6000061 , 430.20001221, 430.        ,\n",
       "       430.        , 429.        , 427.79998779, 427.        ,\n",
       "       426.79998779, 425.79998779, 425.6000061 , 425.6000061 ,\n",
       "       425.6000061 , 425.6000061 , 424.79998779, 424.6000061 ,\n",
       "       423.3999939 , 423.20001221, 421.79998779, 420.6000061 ,\n",
       "       419.6000061 , 419.20001221, 419.20001221, 419.3999939 ,\n",
       "       420.20001221, 420.6000061 , 420.6000061 , 420.6000061 ,\n",
       "       420.6000061 , 417.79998779, 417.3999939 , 417.        ,\n",
       "       416.79998779, 416.3999939 , 415.3999939 , 415.20001221,\n",
       "       414.3999939 , 413.6000061 , 413.6000061 , 413.        ,\n",
       "       413.        , 413.        , 413.        , 413.3999939 ])"
      ]
     },
     "execution_count": 45,
     "metadata": {},
     "output_type": "execute_result"
    }
   ],
   "source": [
    "elevation"
   ]
  },
  {
   "cell_type": "code",
   "execution_count": 51,
   "id": "96ba0100",
   "metadata": {},
   "outputs": [],
   "source": [
    "heartrate = np.array([pt.extensions[0][1].text for pt in pts], dtype=\"float64\")"
   ]
  },
  {
   "cell_type": "code",
   "execution_count": 52,
   "id": "0fa979a6",
   "metadata": {},
   "outputs": [
    {
     "data": {
      "text/plain": [
       "array([ 79.,  79.,  78.,  79.,  79.,  79.,  79.,  79.,  79.,  80.,  80.,\n",
       "        80.,  81.,  80.,  80.,  81.,  81.,  82.,  82.,  85.,  86.,  89.,\n",
       "        94.,  95.,  96., 101., 106., 106., 107., 107., 110., 112., 114.,\n",
       "       115., 115., 115., 113., 112., 112., 112., 110., 107., 106., 107.,\n",
       "       107., 107., 107., 107., 107., 107., 106., 103., 103.,  98.,  96.,\n",
       "        96.,  94.,  95.,  95.,  95.,  95.,  95.,  96.,  97.,  97.,  97.,\n",
       "        97.,  97.,  99.,  99., 100., 101., 102., 103., 103., 102., 103.,\n",
       "       103., 103., 104., 104., 104., 104., 105., 105., 105., 105., 103.,\n",
       "       103., 102., 100.,  99.,  98.,  96.,  95.,  95.,  94.,  94.,  93.,\n",
       "        93.,  93.,  93.,  93.,  93.,  92.,  90.,  89.,  88.,  89.,  90.,\n",
       "        91.,  91.,  92.,  92.,  92.,  92.,  92.,  92.,  93.,  93.,  92.,\n",
       "        91.,  91.,  90.,  91.,  93.,  93.,  93.,  94.,  95.,  95.,  95.,\n",
       "        95.,  95.,  95.,  94.,  94.,  95.,  94.,  94.,  94.,  96.,  97.,\n",
       "        96.,  93.,  93.,  93.,  93.,  92.,  93.,  93.,  93.,  90.,  89.,\n",
       "        88.,  88.,  89.,  89.,  89.,  90.,  91.,  92.,  95.,  95.,  97.,\n",
       "       100., 101., 104., 105., 108., 110., 109., 109., 110., 110., 110.,\n",
       "       111., 111., 110., 110., 111., 111., 111., 113., 116., 116., 119.,\n",
       "       125., 125., 128., 128., 128., 127., 127., 126., 126., 125., 125.,\n",
       "       125., 124., 124., 125., 126., 125., 124., 124., 124., 126., 128.,\n",
       "       130., 131., 131., 131., 132., 132., 133., 133., 132., 132., 131.,\n",
       "       132., 132., 132., 132., 132., 132., 131., 130.])"
      ]
     },
     "execution_count": 52,
     "metadata": {},
     "output_type": "execute_result"
    }
   ],
   "source": [
    "heartrate."
   ]
  },
  {
   "cell_type": "code",
   "execution_count": null,
   "id": "7cbd1ccb",
   "metadata": {},
   "outputs": [],
   "source": []
  },
  {
   "cell_type": "code",
   "execution_count": 35,
   "id": "97fdb524",
   "metadata": {},
   "outputs": [],
   "source": [
    "pts = gpx.tracks[track].segments[segment].points"
   ]
  },
  {
   "cell_type": "code",
   "execution_count": null,
   "id": "85e29e2d",
   "metadata": {},
   "outputs": [],
   "source": []
  },
  {
   "cell_type": "code",
   "execution_count": 30,
   "id": "014f3583",
   "metadata": {},
   "outputs": [],
   "source": [
    "def create_df(gpx):\n",
    "#create a pandas dataframe from a gpx-object\n",
    "    df_list = []\n",
    "    for track in gpx.tracks:\n",
    "        for segment in track.segments:\n",
    "            for no,point in enumerate(segment.points):\n",
    "                df_list.append((point.time,point.latitude, point.longitude, point.elevation, point.extensions[0][1].text, point.speed_between(segment.points[no-1])*3.6)) # * 3.6 -> m/ in km/h\n",
    "    df = pd.DataFrame.from_records(df_list, columns=['time','latitude', 'longitude','elevation', 'heartrate', 'speed'])\n",
    "    df.loc[0,'speed'] = 0 # correct speed of first item (would be no-1)\n",
    "    return df"
   ]
  },
  {
   "cell_type": "code",
   "execution_count": 31,
   "id": "e4f75062",
   "metadata": {},
   "outputs": [],
   "source": [
    "df=create_df(gpx)"
   ]
  },
  {
   "cell_type": "code",
   "execution_count": 99,
   "id": "c0c11b8f",
   "metadata": {},
   "outputs": [
    {
     "data": {
      "text/html": [
       "<div>\n",
       "<style scoped>\n",
       "    .dataframe tbody tr th:only-of-type {\n",
       "        vertical-align: middle;\n",
       "    }\n",
       "\n",
       "    .dataframe tbody tr th {\n",
       "        vertical-align: top;\n",
       "    }\n",
       "\n",
       "    .dataframe thead th {\n",
       "        text-align: right;\n",
       "    }\n",
       "</style>\n",
       "<table border=\"1\" class=\"dataframe\">\n",
       "  <thead>\n",
       "    <tr style=\"text-align: right;\">\n",
       "      <th></th>\n",
       "      <th>time</th>\n",
       "      <th>latitude</th>\n",
       "      <th>longitude</th>\n",
       "      <th>elevation</th>\n",
       "      <th>heartrate</th>\n",
       "      <th>speed</th>\n",
       "    </tr>\n",
       "  </thead>\n",
       "  <tbody>\n",
       "    <tr>\n",
       "      <th>0</th>\n",
       "      <td>2022-03-29 18:29:58+00:00</td>\n",
       "      <td>47.381873</td>\n",
       "      <td>8.571840</td>\n",
       "      <td>610.599976</td>\n",
       "      <td>79</td>\n",
       "      <td>0.000000</td>\n",
       "    </tr>\n",
       "    <tr>\n",
       "      <th>1</th>\n",
       "      <td>2022-03-29 18:29:59+00:00</td>\n",
       "      <td>47.381875</td>\n",
       "      <td>8.571839</td>\n",
       "      <td>610.599976</td>\n",
       "      <td>79</td>\n",
       "      <td>0.723684</td>\n",
       "    </tr>\n",
       "    <tr>\n",
       "      <th>2</th>\n",
       "      <td>2022-03-29 18:30:04+00:00</td>\n",
       "      <td>47.381872</td>\n",
       "      <td>8.571833</td>\n",
       "      <td>610.599976</td>\n",
       "      <td>78</td>\n",
       "      <td>0.361601</td>\n",
       "    </tr>\n",
       "    <tr>\n",
       "      <th>3</th>\n",
       "      <td>2022-03-29 18:30:05+00:00</td>\n",
       "      <td>47.381850</td>\n",
       "      <td>8.571809</td>\n",
       "      <td>610.599976</td>\n",
       "      <td>79</td>\n",
       "      <td>10.943950</td>\n",
       "    </tr>\n",
       "    <tr>\n",
       "      <th>4</th>\n",
       "      <td>2022-03-29 18:30:06+00:00</td>\n",
       "      <td>47.381818</td>\n",
       "      <td>8.571783</td>\n",
       "      <td>610.599976</td>\n",
       "      <td>79</td>\n",
       "      <td>14.762307</td>\n",
       "    </tr>\n",
       "    <tr>\n",
       "      <th>...</th>\n",
       "      <td>...</td>\n",
       "      <td>...</td>\n",
       "      <td>...</td>\n",
       "      <td>...</td>\n",
       "      <td>...</td>\n",
       "      <td>...</td>\n",
       "    </tr>\n",
       "    <tr>\n",
       "      <th>223</th>\n",
       "      <td>2022-03-29 18:36:11+00:00</td>\n",
       "      <td>47.367919</td>\n",
       "      <td>8.545223</td>\n",
       "      <td>413.000000</td>\n",
       "      <td>132</td>\n",
       "      <td>14.948315</td>\n",
       "    </tr>\n",
       "    <tr>\n",
       "      <th>224</th>\n",
       "      <td>2022-03-29 18:36:12+00:00</td>\n",
       "      <td>47.367918</td>\n",
       "      <td>8.545187</td>\n",
       "      <td>413.000000</td>\n",
       "      <td>132</td>\n",
       "      <td>9.672669</td>\n",
       "    </tr>\n",
       "    <tr>\n",
       "      <th>225</th>\n",
       "      <td>2022-03-29 18:36:13+00:00</td>\n",
       "      <td>47.367955</td>\n",
       "      <td>8.545149</td>\n",
       "      <td>413.000000</td>\n",
       "      <td>132</td>\n",
       "      <td>18.099328</td>\n",
       "    </tr>\n",
       "    <tr>\n",
       "      <th>226</th>\n",
       "      <td>2022-03-29 18:36:15+00:00</td>\n",
       "      <td>47.368054</td>\n",
       "      <td>8.545060</td>\n",
       "      <td>413.000000</td>\n",
       "      <td>131</td>\n",
       "      <td>23.268344</td>\n",
       "    </tr>\n",
       "    <tr>\n",
       "      <th>227</th>\n",
       "      <td>2022-03-29 18:36:19+00:00</td>\n",
       "      <td>47.368236</td>\n",
       "      <td>8.544907</td>\n",
       "      <td>413.399994</td>\n",
       "      <td>130</td>\n",
       "      <td>20.967506</td>\n",
       "    </tr>\n",
       "  </tbody>\n",
       "</table>\n",
       "<p>228 rows × 6 columns</p>\n",
       "</div>"
      ],
      "text/plain": [
       "                         time   latitude  longitude   elevation heartrate  \\\n",
       "0   2022-03-29 18:29:58+00:00  47.381873   8.571840  610.599976        79   \n",
       "1   2022-03-29 18:29:59+00:00  47.381875   8.571839  610.599976        79   \n",
       "2   2022-03-29 18:30:04+00:00  47.381872   8.571833  610.599976        78   \n",
       "3   2022-03-29 18:30:05+00:00  47.381850   8.571809  610.599976        79   \n",
       "4   2022-03-29 18:30:06+00:00  47.381818   8.571783  610.599976        79   \n",
       "..                        ...        ...        ...         ...       ...   \n",
       "223 2022-03-29 18:36:11+00:00  47.367919   8.545223  413.000000       132   \n",
       "224 2022-03-29 18:36:12+00:00  47.367918   8.545187  413.000000       132   \n",
       "225 2022-03-29 18:36:13+00:00  47.367955   8.545149  413.000000       132   \n",
       "226 2022-03-29 18:36:15+00:00  47.368054   8.545060  413.000000       131   \n",
       "227 2022-03-29 18:36:19+00:00  47.368236   8.544907  413.399994       130   \n",
       "\n",
       "         speed  \n",
       "0     0.000000  \n",
       "1     0.723684  \n",
       "2     0.361601  \n",
       "3    10.943950  \n",
       "4    14.762307  \n",
       "..         ...  \n",
       "223  14.948315  \n",
       "224   9.672669  \n",
       "225  18.099328  \n",
       "226  23.268344  \n",
       "227  20.967506  \n",
       "\n",
       "[228 rows x 6 columns]"
      ]
     },
     "execution_count": 99,
     "metadata": {},
     "output_type": "execute_result"
    }
   ],
   "source": [
    "df"
   ]
  },
  {
   "cell_type": "code",
   "execution_count": 67,
   "id": "32ed6f79",
   "metadata": {},
   "outputs": [
    {
     "data": {
      "text/plain": [
       "MovingData(moving_time=365.0, stopped_time=16.0, moving_distance=3656.21994253435, stopped_distance=1.6777610888304357, max_speed=13.545822695796227)"
      ]
     },
     "execution_count": 67,
     "metadata": {},
     "output_type": "execute_result"
    }
   ],
   "source": [
    "gpx.get_moving_data()"
   ]
  },
  {
   "cell_type": "code",
   "execution_count": null,
   "id": "a40bfc6d",
   "metadata": {},
   "outputs": [],
   "source": []
  },
  {
   "cell_type": "code",
   "execution_count": 130,
   "id": "0216dab8",
   "metadata": {},
   "outputs": [],
   "source": [
    "def create_df(gpx):\n",
    "#create a pandas dataframe from a gpx-object\n",
    "    df_list = []\n",
    "    for track in gpx.tracks:\n",
    "        for segment in track.segments:\n",
    "            for no,point in enumerate(segment.points):\n",
    "                df_list.append((point.time.replace(tzinfo=None),point.latitude, point.longitude, point.elevation, point.extensions[0][1].text,segment.get_speed(no)*3.6)) # * 3.6 -> m/ in km/h\n",
    "    df = pd.DataFrame.from_records(df_list, columns=['time','latitude', 'longitude','elevation', 'heartrate', 'speed'])\n",
    "    \n",
    "    df.set_index(\"time\", inplace=True)\n",
    "    return df\n",
    "df2=create_df(gpx)"
   ]
  },
  {
   "cell_type": "code",
   "execution_count": 140,
   "id": "4f1118e7",
   "metadata": {},
   "outputs": [],
   "source": [
    "df2 = df.drop(columns=['latitude', 'longitude','elevation','speed'])"
   ]
  },
  {
   "cell_type": "code",
   "execution_count": 145,
   "id": "2a9f1eb1",
   "metadata": {},
   "outputs": [],
   "source": [
    "df2.set_index(\"time\", inplace=True)"
   ]
  },
  {
   "cell_type": "code",
   "execution_count": 141,
   "id": "a61921be",
   "metadata": {},
   "outputs": [],
   "source": [
    "df2[\"time\"] = df2[\"time\"].dt.tz_localize(None)"
   ]
  },
  {
   "cell_type": "code",
   "execution_count": 146,
   "id": "997e6e21",
   "metadata": {},
   "outputs": [
    {
     "data": {
      "text/html": [
       "<div>\n",
       "<style scoped>\n",
       "    .dataframe tbody tr th:only-of-type {\n",
       "        vertical-align: middle;\n",
       "    }\n",
       "\n",
       "    .dataframe tbody tr th {\n",
       "        vertical-align: top;\n",
       "    }\n",
       "\n",
       "    .dataframe thead th {\n",
       "        text-align: right;\n",
       "    }\n",
       "</style>\n",
       "<table border=\"1\" class=\"dataframe\">\n",
       "  <thead>\n",
       "    <tr style=\"text-align: right;\">\n",
       "      <th></th>\n",
       "      <th>heartrate</th>\n",
       "    </tr>\n",
       "    <tr>\n",
       "      <th>time</th>\n",
       "      <th></th>\n",
       "    </tr>\n",
       "  </thead>\n",
       "  <tbody>\n",
       "    <tr>\n",
       "      <th>2022-03-29 18:29:58</th>\n",
       "      <td>79</td>\n",
       "    </tr>\n",
       "    <tr>\n",
       "      <th>2022-03-29 18:29:59</th>\n",
       "      <td>79</td>\n",
       "    </tr>\n",
       "    <tr>\n",
       "      <th>2022-03-29 18:30:04</th>\n",
       "      <td>78</td>\n",
       "    </tr>\n",
       "    <tr>\n",
       "      <th>2022-03-29 18:30:05</th>\n",
       "      <td>79</td>\n",
       "    </tr>\n",
       "    <tr>\n",
       "      <th>2022-03-29 18:30:06</th>\n",
       "      <td>79</td>\n",
       "    </tr>\n",
       "    <tr>\n",
       "      <th>...</th>\n",
       "      <td>...</td>\n",
       "    </tr>\n",
       "    <tr>\n",
       "      <th>2022-03-29 18:36:11</th>\n",
       "      <td>132</td>\n",
       "    </tr>\n",
       "    <tr>\n",
       "      <th>2022-03-29 18:36:12</th>\n",
       "      <td>132</td>\n",
       "    </tr>\n",
       "    <tr>\n",
       "      <th>2022-03-29 18:36:13</th>\n",
       "      <td>132</td>\n",
       "    </tr>\n",
       "    <tr>\n",
       "      <th>2022-03-29 18:36:15</th>\n",
       "      <td>131</td>\n",
       "    </tr>\n",
       "    <tr>\n",
       "      <th>2022-03-29 18:36:19</th>\n",
       "      <td>130</td>\n",
       "    </tr>\n",
       "  </tbody>\n",
       "</table>\n",
       "<p>228 rows × 1 columns</p>\n",
       "</div>"
      ],
      "text/plain": [
       "                    heartrate\n",
       "time                         \n",
       "2022-03-29 18:29:58        79\n",
       "2022-03-29 18:29:59        79\n",
       "2022-03-29 18:30:04        78\n",
       "2022-03-29 18:30:05        79\n",
       "2022-03-29 18:30:06        79\n",
       "...                       ...\n",
       "2022-03-29 18:36:11       132\n",
       "2022-03-29 18:36:12       132\n",
       "2022-03-29 18:36:13       132\n",
       "2022-03-29 18:36:15       131\n",
       "2022-03-29 18:36:19       130\n",
       "\n",
       "[228 rows x 1 columns]"
      ]
     },
     "execution_count": 146,
     "metadata": {},
     "output_type": "execute_result"
    }
   ],
   "source": [
    "df2"
   ]
  },
  {
   "cell_type": "code",
   "execution_count": 100,
   "id": "a27583a3",
   "metadata": {},
   "outputs": [
    {
     "ename": "AttributeError",
     "evalue": "'NoneType' object has no attribute 'offset'",
     "output_type": "error",
     "traceback": [
      "\u001b[0;31m---------------------------------------------------------------------------\u001b[0m",
      "\u001b[0;31mAttributeError\u001b[0m                            Traceback (most recent call last)",
      "Input \u001b[0;32mIn [100]\u001b[0m, in \u001b[0;36m<cell line: 1>\u001b[0;34m()\u001b[0m\n\u001b[0;32m----> 1\u001b[0m \u001b[43mdf2\u001b[49m\u001b[38;5;241;43m.\u001b[39;49m\u001b[43mplot\u001b[49m\u001b[43m(\u001b[49m\u001b[43my\u001b[49m\u001b[38;5;241;43m=\u001b[39;49m\u001b[38;5;124;43m\"\u001b[39;49m\u001b[38;5;124;43melevation\u001b[39;49m\u001b[38;5;124;43m\"\u001b[39;49m\u001b[43m)\u001b[49m\n",
      "File \u001b[0;32m~/opt/anaconda3/envs/track-rides-nb/lib/python3.9/site-packages/pandas/plotting/_core.py:972\u001b[0m, in \u001b[0;36mPlotAccessor.__call__\u001b[0;34m(self, *args, **kwargs)\u001b[0m\n\u001b[1;32m    969\u001b[0m             label_name \u001b[38;5;241m=\u001b[39m label_kw \u001b[38;5;129;01mor\u001b[39;00m data\u001b[38;5;241m.\u001b[39mcolumns\n\u001b[1;32m    970\u001b[0m             data\u001b[38;5;241m.\u001b[39mcolumns \u001b[38;5;241m=\u001b[39m label_name\n\u001b[0;32m--> 972\u001b[0m \u001b[38;5;28;01mreturn\u001b[39;00m \u001b[43mplot_backend\u001b[49m\u001b[38;5;241;43m.\u001b[39;49m\u001b[43mplot\u001b[49m\u001b[43m(\u001b[49m\u001b[43mdata\u001b[49m\u001b[43m,\u001b[49m\u001b[43m \u001b[49m\u001b[43mkind\u001b[49m\u001b[38;5;241;43m=\u001b[39;49m\u001b[43mkind\u001b[49m\u001b[43m,\u001b[49m\u001b[43m \u001b[49m\u001b[38;5;241;43m*\u001b[39;49m\u001b[38;5;241;43m*\u001b[39;49m\u001b[43mkwargs\u001b[49m\u001b[43m)\u001b[49m\n",
      "File \u001b[0;32m~/opt/anaconda3/envs/track-rides-nb/lib/python3.9/site-packages/pandas/plotting/_matplotlib/__init__.py:71\u001b[0m, in \u001b[0;36mplot\u001b[0;34m(data, kind, **kwargs)\u001b[0m\n\u001b[1;32m     69\u001b[0m         kwargs[\u001b[38;5;124m\"\u001b[39m\u001b[38;5;124max\u001b[39m\u001b[38;5;124m\"\u001b[39m] \u001b[38;5;241m=\u001b[39m \u001b[38;5;28mgetattr\u001b[39m(ax, \u001b[38;5;124m\"\u001b[39m\u001b[38;5;124mleft_ax\u001b[39m\u001b[38;5;124m\"\u001b[39m, ax)\n\u001b[1;32m     70\u001b[0m plot_obj \u001b[38;5;241m=\u001b[39m PLOT_CLASSES[kind](data, \u001b[38;5;241m*\u001b[39m\u001b[38;5;241m*\u001b[39mkwargs)\n\u001b[0;32m---> 71\u001b[0m \u001b[43mplot_obj\u001b[49m\u001b[38;5;241;43m.\u001b[39;49m\u001b[43mgenerate\u001b[49m\u001b[43m(\u001b[49m\u001b[43m)\u001b[49m\n\u001b[1;32m     72\u001b[0m plot_obj\u001b[38;5;241m.\u001b[39mdraw()\n\u001b[1;32m     73\u001b[0m \u001b[38;5;28;01mreturn\u001b[39;00m plot_obj\u001b[38;5;241m.\u001b[39mresult\n",
      "File \u001b[0;32m~/opt/anaconda3/envs/track-rides-nb/lib/python3.9/site-packages/pandas/plotting/_matplotlib/core.py:329\u001b[0m, in \u001b[0;36mMPLPlot.generate\u001b[0;34m(self)\u001b[0m\n\u001b[1;32m    327\u001b[0m \u001b[38;5;28mself\u001b[39m\u001b[38;5;241m.\u001b[39m_compute_plot_data()\n\u001b[1;32m    328\u001b[0m \u001b[38;5;28mself\u001b[39m\u001b[38;5;241m.\u001b[39m_setup_subplots()\n\u001b[0;32m--> 329\u001b[0m \u001b[38;5;28;43mself\u001b[39;49m\u001b[38;5;241;43m.\u001b[39;49m\u001b[43m_make_plot\u001b[49m\u001b[43m(\u001b[49m\u001b[43m)\u001b[49m\n\u001b[1;32m    330\u001b[0m \u001b[38;5;28mself\u001b[39m\u001b[38;5;241m.\u001b[39m_add_table()\n\u001b[1;32m    331\u001b[0m \u001b[38;5;28mself\u001b[39m\u001b[38;5;241m.\u001b[39m_make_legend()\n",
      "File \u001b[0;32m~/opt/anaconda3/envs/track-rides-nb/lib/python3.9/site-packages/pandas/plotting/_matplotlib/core.py:1226\u001b[0m, in \u001b[0;36mLinePlot._make_plot\u001b[0;34m(self)\u001b[0m\n\u001b[1;32m   1223\u001b[0m label \u001b[38;5;241m=\u001b[39m \u001b[38;5;28mself\u001b[39m\u001b[38;5;241m.\u001b[39m_mark_right_label(label, index\u001b[38;5;241m=\u001b[39mi)\n\u001b[1;32m   1224\u001b[0m kwds[\u001b[38;5;124m\"\u001b[39m\u001b[38;5;124mlabel\u001b[39m\u001b[38;5;124m\"\u001b[39m] \u001b[38;5;241m=\u001b[39m label\n\u001b[0;32m-> 1226\u001b[0m newlines \u001b[38;5;241m=\u001b[39m \u001b[43mplotf\u001b[49m\u001b[43m(\u001b[49m\n\u001b[1;32m   1227\u001b[0m \u001b[43m    \u001b[49m\u001b[43max\u001b[49m\u001b[43m,\u001b[49m\n\u001b[1;32m   1228\u001b[0m \u001b[43m    \u001b[49m\u001b[43mx\u001b[49m\u001b[43m,\u001b[49m\n\u001b[1;32m   1229\u001b[0m \u001b[43m    \u001b[49m\u001b[43my\u001b[49m\u001b[43m,\u001b[49m\n\u001b[1;32m   1230\u001b[0m \u001b[43m    \u001b[49m\u001b[43mstyle\u001b[49m\u001b[38;5;241;43m=\u001b[39;49m\u001b[43mstyle\u001b[49m\u001b[43m,\u001b[49m\n\u001b[1;32m   1231\u001b[0m \u001b[43m    \u001b[49m\u001b[43mcolumn_num\u001b[49m\u001b[38;5;241;43m=\u001b[39;49m\u001b[43mi\u001b[49m\u001b[43m,\u001b[49m\n\u001b[1;32m   1232\u001b[0m \u001b[43m    \u001b[49m\u001b[43mstacking_id\u001b[49m\u001b[38;5;241;43m=\u001b[39;49m\u001b[43mstacking_id\u001b[49m\u001b[43m,\u001b[49m\n\u001b[1;32m   1233\u001b[0m \u001b[43m    \u001b[49m\u001b[43mis_errorbar\u001b[49m\u001b[38;5;241;43m=\u001b[39;49m\u001b[43mis_errorbar\u001b[49m\u001b[43m,\u001b[49m\n\u001b[1;32m   1234\u001b[0m \u001b[43m    \u001b[49m\u001b[38;5;241;43m*\u001b[39;49m\u001b[38;5;241;43m*\u001b[39;49m\u001b[43mkwds\u001b[49m\u001b[43m,\u001b[49m\n\u001b[1;32m   1235\u001b[0m \u001b[43m\u001b[49m\u001b[43m)\u001b[49m\n\u001b[1;32m   1236\u001b[0m \u001b[38;5;28mself\u001b[39m\u001b[38;5;241m.\u001b[39m_append_legend_handles_labels(newlines[\u001b[38;5;241m0\u001b[39m], label)\n\u001b[1;32m   1238\u001b[0m \u001b[38;5;28;01mif\u001b[39;00m \u001b[38;5;28mself\u001b[39m\u001b[38;5;241m.\u001b[39m_is_ts_plot():\n\u001b[1;32m   1239\u001b[0m \n\u001b[1;32m   1240\u001b[0m     \u001b[38;5;66;03m# reset of xlim should be used for ts data\u001b[39;00m\n\u001b[1;32m   1241\u001b[0m     \u001b[38;5;66;03m# TODO: GH28021, should find a way to change view limit on xaxis\u001b[39;00m\n",
      "File \u001b[0;32m~/opt/anaconda3/envs/track-rides-nb/lib/python3.9/site-packages/pandas/plotting/_matplotlib/core.py:1256\u001b[0m, in \u001b[0;36mLinePlot._plot\u001b[0;34m(cls, ax, x, y, style, column_num, stacking_id, **kwds)\u001b[0m\n\u001b[1;32m   1254\u001b[0m     \u001b[38;5;28mcls\u001b[39m\u001b[38;5;241m.\u001b[39m_initialize_stacker(ax, stacking_id, \u001b[38;5;28mlen\u001b[39m(y))\n\u001b[1;32m   1255\u001b[0m y_values \u001b[38;5;241m=\u001b[39m \u001b[38;5;28mcls\u001b[39m\u001b[38;5;241m.\u001b[39m_get_stacked_values(ax, stacking_id, y, kwds[\u001b[38;5;124m\"\u001b[39m\u001b[38;5;124mlabel\u001b[39m\u001b[38;5;124m\"\u001b[39m])\n\u001b[0;32m-> 1256\u001b[0m lines \u001b[38;5;241m=\u001b[39m \u001b[43mMPLPlot\u001b[49m\u001b[38;5;241;43m.\u001b[39;49m\u001b[43m_plot\u001b[49m\u001b[43m(\u001b[49m\u001b[43max\u001b[49m\u001b[43m,\u001b[49m\u001b[43m \u001b[49m\u001b[43mx\u001b[49m\u001b[43m,\u001b[49m\u001b[43m \u001b[49m\u001b[43my_values\u001b[49m\u001b[43m,\u001b[49m\u001b[43m \u001b[49m\u001b[43mstyle\u001b[49m\u001b[38;5;241;43m=\u001b[39;49m\u001b[43mstyle\u001b[49m\u001b[43m,\u001b[49m\u001b[43m \u001b[49m\u001b[38;5;241;43m*\u001b[39;49m\u001b[38;5;241;43m*\u001b[39;49m\u001b[43mkwds\u001b[49m\u001b[43m)\u001b[49m\n\u001b[1;32m   1257\u001b[0m \u001b[38;5;28mcls\u001b[39m\u001b[38;5;241m.\u001b[39m_update_stacker(ax, stacking_id, y)\n\u001b[1;32m   1258\u001b[0m \u001b[38;5;28;01mreturn\u001b[39;00m lines\n",
      "File \u001b[0;32m~/opt/anaconda3/envs/track-rides-nb/lib/python3.9/site-packages/pandas/plotting/_matplotlib/converter.py:91\u001b[0m, in \u001b[0;36mregister_pandas_matplotlib_converters.<locals>.wrapper\u001b[0;34m(*args, **kwargs)\u001b[0m\n\u001b[1;32m     88\u001b[0m \u001b[38;5;129m@functools\u001b[39m\u001b[38;5;241m.\u001b[39mwraps(func)\n\u001b[1;32m     89\u001b[0m \u001b[38;5;28;01mdef\u001b[39;00m \u001b[38;5;21mwrapper\u001b[39m(\u001b[38;5;241m*\u001b[39margs, \u001b[38;5;241m*\u001b[39m\u001b[38;5;241m*\u001b[39mkwargs):\n\u001b[1;32m     90\u001b[0m     \u001b[38;5;28;01mwith\u001b[39;00m pandas_converters():\n\u001b[0;32m---> 91\u001b[0m         \u001b[38;5;28;01mreturn\u001b[39;00m \u001b[43mfunc\u001b[49m\u001b[43m(\u001b[49m\u001b[38;5;241;43m*\u001b[39;49m\u001b[43margs\u001b[49m\u001b[43m,\u001b[49m\u001b[43m \u001b[49m\u001b[38;5;241;43m*\u001b[39;49m\u001b[38;5;241;43m*\u001b[39;49m\u001b[43mkwargs\u001b[49m\u001b[43m)\u001b[49m\n",
      "File \u001b[0;32m~/opt/anaconda3/envs/track-rides-nb/lib/python3.9/site-packages/pandas/plotting/_matplotlib/core.py:755\u001b[0m, in \u001b[0;36mMPLPlot._plot\u001b[0;34m(cls, ax, x, y, style, is_errorbar, **kwds)\u001b[0m\n\u001b[1;32m    752\u001b[0m \u001b[38;5;28;01melse\u001b[39;00m:\n\u001b[1;32m    753\u001b[0m     \u001b[38;5;66;03m# prevent style kwarg from going to errorbar, where it is unsupported\u001b[39;00m\n\u001b[1;32m    754\u001b[0m     args \u001b[38;5;241m=\u001b[39m (x, y, style) \u001b[38;5;28;01mif\u001b[39;00m style \u001b[38;5;129;01mis\u001b[39;00m \u001b[38;5;129;01mnot\u001b[39;00m \u001b[38;5;28;01mNone\u001b[39;00m \u001b[38;5;28;01melse\u001b[39;00m (x, y)\n\u001b[0;32m--> 755\u001b[0m     \u001b[38;5;28;01mreturn\u001b[39;00m \u001b[43max\u001b[49m\u001b[38;5;241;43m.\u001b[39;49m\u001b[43mplot\u001b[49m\u001b[43m(\u001b[49m\u001b[38;5;241;43m*\u001b[39;49m\u001b[43margs\u001b[49m\u001b[43m,\u001b[49m\u001b[43m \u001b[49m\u001b[38;5;241;43m*\u001b[39;49m\u001b[38;5;241;43m*\u001b[39;49m\u001b[43mkwds\u001b[49m\u001b[43m)\u001b[49m\n",
      "File \u001b[0;32m~/opt/anaconda3/envs/track-rides-nb/lib/python3.9/site-packages/matplotlib/axes/_axes.py:1632\u001b[0m, in \u001b[0;36mAxes.plot\u001b[0;34m(self, scalex, scaley, data, *args, **kwargs)\u001b[0m\n\u001b[1;32m   1390\u001b[0m \u001b[38;5;124;03m\"\"\"\u001b[39;00m\n\u001b[1;32m   1391\u001b[0m \u001b[38;5;124;03mPlot y versus x as lines and/or markers.\u001b[39;00m\n\u001b[1;32m   1392\u001b[0m \n\u001b[0;32m   (...)\u001b[0m\n\u001b[1;32m   1629\u001b[0m \u001b[38;5;124;03m(``'green'``) or hex strings (``'#008000'``).\u001b[39;00m\n\u001b[1;32m   1630\u001b[0m \u001b[38;5;124;03m\"\"\"\u001b[39;00m\n\u001b[1;32m   1631\u001b[0m kwargs \u001b[38;5;241m=\u001b[39m cbook\u001b[38;5;241m.\u001b[39mnormalize_kwargs(kwargs, mlines\u001b[38;5;241m.\u001b[39mLine2D)\n\u001b[0;32m-> 1632\u001b[0m lines \u001b[38;5;241m=\u001b[39m [\u001b[38;5;241m*\u001b[39m\u001b[38;5;28mself\u001b[39m\u001b[38;5;241m.\u001b[39m_get_lines(\u001b[38;5;241m*\u001b[39margs, data\u001b[38;5;241m=\u001b[39mdata, \u001b[38;5;241m*\u001b[39m\u001b[38;5;241m*\u001b[39mkwargs)]\n\u001b[1;32m   1633\u001b[0m \u001b[38;5;28;01mfor\u001b[39;00m line \u001b[38;5;129;01min\u001b[39;00m lines:\n\u001b[1;32m   1634\u001b[0m     \u001b[38;5;28mself\u001b[39m\u001b[38;5;241m.\u001b[39madd_line(line)\n",
      "File \u001b[0;32m~/opt/anaconda3/envs/track-rides-nb/lib/python3.9/site-packages/matplotlib/axes/_base.py:312\u001b[0m, in \u001b[0;36m_process_plot_var_args.__call__\u001b[0;34m(self, data, *args, **kwargs)\u001b[0m\n\u001b[1;32m    310\u001b[0m     this \u001b[38;5;241m+\u001b[39m\u001b[38;5;241m=\u001b[39m args[\u001b[38;5;241m0\u001b[39m],\n\u001b[1;32m    311\u001b[0m     args \u001b[38;5;241m=\u001b[39m args[\u001b[38;5;241m1\u001b[39m:]\n\u001b[0;32m--> 312\u001b[0m \u001b[38;5;28;01myield from\u001b[39;00m \u001b[38;5;28;43mself\u001b[39;49m\u001b[38;5;241;43m.\u001b[39;49m\u001b[43m_plot_args\u001b[49m\u001b[43m(\u001b[49m\u001b[43mthis\u001b[49m\u001b[43m,\u001b[49m\u001b[43m \u001b[49m\u001b[43mkwargs\u001b[49m\u001b[43m)\u001b[49m\n",
      "File \u001b[0;32m~/opt/anaconda3/envs/track-rides-nb/lib/python3.9/site-packages/matplotlib/axes/_base.py:493\u001b[0m, in \u001b[0;36m_process_plot_var_args._plot_args\u001b[0;34m(self, tup, kwargs, return_kwargs)\u001b[0m\n\u001b[1;32m    490\u001b[0m     x, y \u001b[38;5;241m=\u001b[39m index_of(xy[\u001b[38;5;241m-\u001b[39m\u001b[38;5;241m1\u001b[39m])\n\u001b[1;32m    492\u001b[0m \u001b[38;5;28;01mif\u001b[39;00m \u001b[38;5;28mself\u001b[39m\u001b[38;5;241m.\u001b[39maxes\u001b[38;5;241m.\u001b[39mxaxis \u001b[38;5;129;01mis\u001b[39;00m \u001b[38;5;129;01mnot\u001b[39;00m \u001b[38;5;28;01mNone\u001b[39;00m:\n\u001b[0;32m--> 493\u001b[0m     \u001b[38;5;28;43mself\u001b[39;49m\u001b[38;5;241;43m.\u001b[39;49m\u001b[43maxes\u001b[49m\u001b[38;5;241;43m.\u001b[39;49m\u001b[43mxaxis\u001b[49m\u001b[38;5;241;43m.\u001b[39;49m\u001b[43mupdate_units\u001b[49m\u001b[43m(\u001b[49m\u001b[43mx\u001b[49m\u001b[43m)\u001b[49m\n\u001b[1;32m    494\u001b[0m \u001b[38;5;28;01mif\u001b[39;00m \u001b[38;5;28mself\u001b[39m\u001b[38;5;241m.\u001b[39maxes\u001b[38;5;241m.\u001b[39myaxis \u001b[38;5;129;01mis\u001b[39;00m \u001b[38;5;129;01mnot\u001b[39;00m \u001b[38;5;28;01mNone\u001b[39;00m:\n\u001b[1;32m    495\u001b[0m     \u001b[38;5;28mself\u001b[39m\u001b[38;5;241m.\u001b[39maxes\u001b[38;5;241m.\u001b[39myaxis\u001b[38;5;241m.\u001b[39mupdate_units(y)\n",
      "File \u001b[0;32m~/opt/anaconda3/envs/track-rides-nb/lib/python3.9/site-packages/matplotlib/axis.py:1451\u001b[0m, in \u001b[0;36mAxis.update_units\u001b[0;34m(self, data)\u001b[0m\n\u001b[1;32m   1449\u001b[0m default \u001b[38;5;241m=\u001b[39m \u001b[38;5;28mself\u001b[39m\u001b[38;5;241m.\u001b[39mconverter\u001b[38;5;241m.\u001b[39mdefault_units(data, \u001b[38;5;28mself\u001b[39m)\n\u001b[1;32m   1450\u001b[0m \u001b[38;5;28;01mif\u001b[39;00m default \u001b[38;5;129;01mis\u001b[39;00m \u001b[38;5;129;01mnot\u001b[39;00m \u001b[38;5;28;01mNone\u001b[39;00m \u001b[38;5;129;01mand\u001b[39;00m \u001b[38;5;28mself\u001b[39m\u001b[38;5;241m.\u001b[39munits \u001b[38;5;129;01mis\u001b[39;00m \u001b[38;5;28;01mNone\u001b[39;00m:\n\u001b[0;32m-> 1451\u001b[0m     \u001b[38;5;28;43mself\u001b[39;49m\u001b[38;5;241;43m.\u001b[39;49m\u001b[43mset_units\u001b[49m\u001b[43m(\u001b[49m\u001b[43mdefault\u001b[49m\u001b[43m)\u001b[49m\n\u001b[1;32m   1453\u001b[0m \u001b[38;5;28;01melif\u001b[39;00m neednew:\n\u001b[1;32m   1454\u001b[0m     \u001b[38;5;28mself\u001b[39m\u001b[38;5;241m.\u001b[39m_update_axisinfo()\n",
      "File \u001b[0;32m~/opt/anaconda3/envs/track-rides-nb/lib/python3.9/site-packages/matplotlib/axis.py:1524\u001b[0m, in \u001b[0;36mAxis.set_units\u001b[0;34m(self, u)\u001b[0m\n\u001b[1;32m   1512\u001b[0m \u001b[38;5;28;01mdef\u001b[39;00m \u001b[38;5;21mset_units\u001b[39m(\u001b[38;5;28mself\u001b[39m, u):\n\u001b[1;32m   1513\u001b[0m     \u001b[38;5;124;03m\"\"\"\u001b[39;00m\n\u001b[1;32m   1514\u001b[0m \u001b[38;5;124;03m    Set the units for axis.\u001b[39;00m\n\u001b[1;32m   1515\u001b[0m \n\u001b[0;32m   (...)\u001b[0m\n\u001b[1;32m   1522\u001b[0m \u001b[38;5;124;03m    The units of any shared axis will also be updated.\u001b[39;00m\n\u001b[1;32m   1523\u001b[0m \u001b[38;5;124;03m    \"\"\"\u001b[39;00m\n\u001b[0;32m-> 1524\u001b[0m     \u001b[38;5;28;01mif\u001b[39;00m \u001b[43mu\u001b[49m\u001b[43m \u001b[49m\u001b[38;5;241;43m==\u001b[39;49m\u001b[43m \u001b[49m\u001b[38;5;28;43mself\u001b[39;49m\u001b[38;5;241;43m.\u001b[39;49m\u001b[43munits\u001b[49m:\n\u001b[1;32m   1525\u001b[0m         \u001b[38;5;28;01mreturn\u001b[39;00m\n\u001b[1;32m   1526\u001b[0m     \u001b[38;5;28;01mfor\u001b[39;00m name, axis \u001b[38;5;129;01min\u001b[39;00m \u001b[38;5;28mself\u001b[39m\u001b[38;5;241m.\u001b[39maxes\u001b[38;5;241m.\u001b[39m_get_axis_map()\u001b[38;5;241m.\u001b[39mitems():\n",
      "File \u001b[0;32m~/opt/anaconda3/envs/track-rides-nb/lib/python3.9/site-packages/gpxpy/gpxfield.py:71\u001b[0m, in \u001b[0;36mSimpleTZ.__eq__\u001b[0;34m(self, other)\u001b[0m\n\u001b[1;32m     70\u001b[0m \u001b[38;5;28;01mdef\u001b[39;00m \u001b[38;5;21m__eq__\u001b[39m(\u001b[38;5;28mself\u001b[39m, other: Any) \u001b[38;5;241m-\u001b[39m\u001b[38;5;241m>\u001b[39m \u001b[38;5;28mbool\u001b[39m:\n\u001b[0;32m---> 71\u001b[0m     \u001b[38;5;28;01mreturn\u001b[39;00m \u001b[38;5;28mself\u001b[39m\u001b[38;5;241m.\u001b[39moffset \u001b[38;5;241m==\u001b[39m \u001b[43mother\u001b[49m\u001b[38;5;241;43m.\u001b[39;49m\u001b[43moffset\u001b[49m\n",
      "\u001b[0;31mAttributeError\u001b[0m: 'NoneType' object has no attribute 'offset'"
     ]
    },
    {
     "data": {
      "image/png": "[encoded data removed]",
      "text/plain": [
       "<Figure size 432x288 with 1 Axes>"
      ]
     },
     "metadata": {
      "needs_background": "light"
     },
     "output_type": "display_data"
    }
   ],
   "source": [
    "df2.plot(y=\"elevation\")"
   ]
  },
  {
   "cell_type": "code",
   "execution_count": 2,
   "id": "37fbeb29",
   "metadata": {},
   "outputs": [],
   "source": [
    "import gpxo\n",
    "track = gpxo.Track('activity_1.gpx')"
   ]
  },
  {
   "cell_type": "code",
   "execution_count": 3,
   "id": "46a4cf4c",
   "metadata": {},
   "outputs": [
    {
     "name": "stdout",
     "output_type": "stream",
     "text": [
      "Help on Track in module gpxo.track object:\n",
      "\n",
      "class Track(builtins.object)\n",
      " |  Track(filename, track=0, segment=0)\n",
      " |  \n",
      " |  Methods defined here:\n",
      " |  \n",
      " |  __init__(self, filename, track=0, segment=0)\n",
      " |      Initialize self.  See help(type(self)) for accurate signature.\n",
      " |  \n",
      " |  closest_to(self, pt)\n",
      " |      Find index of point in trajectory that is closest to pt=(lat, long).\n",
      " |  \n",
      " |  map(self, map_type='osm', embed=False, ax=None, size=(10, 10), plot='plot', **kwargs)\n",
      " |      Plot trajectory on map.\n",
      " |      \n",
      " |      Parameters\n",
      " |      ----------\n",
      " |      - map_type can be e.g. osm, esri_aerial, esri_worldtopo, etc. see:\n",
      " |      https://github.com/jwass/mplleaflet/blob/master/mplleaflet/maptiles.py\n",
      " |      \n",
      " |      - embed: if True, embed plot in Jupyter. If False (default), open in\n",
      " |      browser.\n",
      " |      \n",
      " |      - ax: if not None, use provided matplotlib axes.\n",
      " |      \n",
      " |      - size: when embedded, size of the figure.\n",
      " |      \n",
      " |      - plot: 'plot' or 'scatter'\n",
      " |      \n",
      " |      - **kwargs: any plt.plot or plt.scatter keyword arguments\n",
      " |  \n",
      " |  plot(self, mode, *args, **kwargs)\n",
      " |      Plot columns of self.data (use pandas DataFrame plot arguments).\n",
      " |      \n",
      " |      Parameters\n",
      " |      ----------\n",
      " |      - mode (str): 2 letters that define short names for x and y axis\n",
      " |      - *args: any additional argument for matplotlib ax.plot()\n",
      " |      - **kwargs: any additional keyword argument for matplotlib ax.plot()\n",
      " |      \n",
      " |      Output\n",
      " |      ------\n",
      " |      - matplotlib axes\n",
      " |      \n",
      " |      Short names\n",
      " |      -----------\n",
      " |      't': 'time'\n",
      " |      's': 'duration (s)'\n",
      " |      'd': 'distance (km)'\n",
      " |      'v': 'velocity (km/h)'\n",
      " |      'z': 'elevation (m)'\n",
      " |      'c': 'compass (°)'\n",
      " |      'h': 'heartrate (bpm)'\n",
      " |  \n",
      " |  smooth(self, n=5, window='hanning')\n",
      " |      Smooth position data (and subsequently distance, velocity etc.)\n",
      " |      \n",
      " |      Parameters\n",
      " |      ----------\n",
      " |      - n: size of moving window for smoothing\n",
      " |      - window: type of window (e.g. 'hanning' or 'flat', see gpxo.smooth())\n",
      " |  \n",
      " |  ----------------------------------------------------------------------\n",
      " |  Readonly properties defined here:\n",
      " |  \n",
      " |  compass\n",
      " |      Compass bearing in decimal degrees (°). See gpxo.compass\n",
      " |  \n",
      " |  data\n",
      " |      pd.DataFrame with all track data (time, position, velocity etc.)\n",
      " |  \n",
      " |  distance\n",
      " |      Travelled distance in kilometers.\n",
      " |  \n",
      " |  seconds\n",
      " |  \n",
      " |  velocity\n",
      " |      Instantaneous velocity in km/h.\n",
      " |  \n",
      " |  ----------------------------------------------------------------------\n",
      " |  Data descriptors defined here:\n",
      " |  \n",
      " |  __dict__\n",
      " |      dictionary for instance variables (if defined)\n",
      " |  \n",
      " |  __weakref__\n",
      " |      list of weak references to the object (if defined)\n",
      "\n"
     ]
    }
   ],
   "source": [
    "help(track)"
   ]
  },
  {
   "cell_type": "code",
   "execution_count": 17,
   "id": "f22c8310",
   "metadata": {
    "scrolled": false
   },
   "outputs": [
    {
     "name": "stdout",
     "output_type": "stream",
     "text": [
      "Help on method plot in module gpxo.track:\n",
      "\n",
      "plot(mode, *args, **kwargs) method of gpxo.track.Track instance\n",
      "    Plot columns of self.data (use pandas DataFrame plot arguments).\n",
      "    \n",
      "    Parameters\n",
      "    ----------\n",
      "    - mode (str): 2 letters that define short names for x and y axis\n",
      "    - *args: any additional argument for matplotlib ax.plot()\n",
      "    - **kwargs: any additional keyword argument for matplotlib ax.plot()\n",
      "    \n",
      "    Output\n",
      "    ------\n",
      "    - matplotlib axes\n",
      "    \n",
      "    Short names\n",
      "    -----------\n",
      "    't': 'time'\n",
      "    's': 'duration (s)'\n",
      "    'd': 'distance (km)'\n",
      "    'v': 'velocity (km/h)'\n",
      "    'z': 'elevation (m)'\n",
      "    'c': 'compass (°)'\n",
      "    'h': 'heartrate (bpm)'\n",
      "\n"
     ]
    }
   ],
   "source": [
    "help(track.plot)"
   ]
  },
  {
   "cell_type": "code",
   "execution_count": 4,
   "id": "0d073e38",
   "metadata": {},
   "outputs": [
    {
     "data": {
      "text/html": [
       "<div>\n",
       "<style scoped>\n",
       "    .dataframe tbody tr th:only-of-type {\n",
       "        vertical-align: middle;\n",
       "    }\n",
       "\n",
       "    .dataframe tbody tr th {\n",
       "        vertical-align: top;\n",
       "    }\n",
       "\n",
       "    .dataframe thead th {\n",
       "        text-align: right;\n",
       "    }\n",
       "</style>\n",
       "<table border=\"1\" class=\"dataframe\">\n",
       "  <thead>\n",
       "    <tr style=\"text-align: right;\">\n",
       "      <th></th>\n",
       "      <th>latitude (°)</th>\n",
       "      <th>longitude (°)</th>\n",
       "      <th>distance (km)</th>\n",
       "      <th>compass (°)</th>\n",
       "      <th>duration (s)</th>\n",
       "      <th>velocity (km/h)</th>\n",
       "      <th>elevation (m)</th>\n",
       "      <th>heartrate (bpm)</th>\n",
       "    </tr>\n",
       "    <tr>\n",
       "      <th>time</th>\n",
       "      <th></th>\n",
       "      <th></th>\n",
       "      <th></th>\n",
       "      <th></th>\n",
       "      <th></th>\n",
       "      <th></th>\n",
       "      <th></th>\n",
       "      <th></th>\n",
       "    </tr>\n",
       "  </thead>\n",
       "  <tbody>\n",
       "    <tr>\n",
       "      <th>2022-02-23 08:39:36</th>\n",
       "      <td>47.368662</td>\n",
       "      <td>8.547207</td>\n",
       "      <td>0.000000</td>\n",
       "      <td>83.406423</td>\n",
       "      <td>0.0</td>\n",
       "      <td>7.954457</td>\n",
       "      <td>430.000000</td>\n",
       "      <td>120.0</td>\n",
       "    </tr>\n",
       "    <tr>\n",
       "      <th>2022-02-23 08:39:43</th>\n",
       "      <td>47.368678</td>\n",
       "      <td>8.547410</td>\n",
       "      <td>0.015467</td>\n",
       "      <td>81.915654</td>\n",
       "      <td>7.0</td>\n",
       "      <td>6.587177</td>\n",
       "      <td>430.200012</td>\n",
       "      <td>119.0</td>\n",
       "    </tr>\n",
       "    <tr>\n",
       "      <th>2022-02-23 08:39:46</th>\n",
       "      <td>47.368686</td>\n",
       "      <td>8.547476</td>\n",
       "      <td>0.020468</td>\n",
       "      <td>105.451733</td>\n",
       "      <td>10.0</td>\n",
       "      <td>8.455500</td>\n",
       "      <td>430.600006</td>\n",
       "      <td>121.0</td>\n",
       "    </tr>\n",
       "    <tr>\n",
       "      <th>2022-02-23 08:39:47</th>\n",
       "      <td>47.368671</td>\n",
       "      <td>8.547501</td>\n",
       "      <td>0.023044</td>\n",
       "      <td>116.425114</td>\n",
       "      <td>11.0</td>\n",
       "      <td>9.110400</td>\n",
       "      <td>430.799988</td>\n",
       "      <td>121.0</td>\n",
       "    </tr>\n",
       "    <tr>\n",
       "      <th>2022-02-23 08:39:49</th>\n",
       "      <td>47.368661</td>\n",
       "      <td>8.547565</td>\n",
       "      <td>0.027924</td>\n",
       "      <td>73.407514</td>\n",
       "      <td>13.0</td>\n",
       "      <td>9.477600</td>\n",
       "      <td>431.000000</td>\n",
       "      <td>119.0</td>\n",
       "    </tr>\n",
       "    <tr>\n",
       "      <th>...</th>\n",
       "      <td>...</td>\n",
       "      <td>...</td>\n",
       "      <td>...</td>\n",
       "      <td>...</td>\n",
       "      <td>...</td>\n",
       "      <td>...</td>\n",
       "      <td>...</td>\n",
       "      <td>...</td>\n",
       "    </tr>\n",
       "    <tr>\n",
       "      <th>2022-02-23 08:46:58</th>\n",
       "      <td>47.376619</td>\n",
       "      <td>8.548314</td>\n",
       "      <td>1.059816</td>\n",
       "      <td>0.000000</td>\n",
       "      <td>442.0</td>\n",
       "      <td>0.000000</td>\n",
       "      <td>463.000000</td>\n",
       "      <td>95.0</td>\n",
       "    </tr>\n",
       "    <tr>\n",
       "      <th>2022-02-23 08:46:59</th>\n",
       "      <td>47.376619</td>\n",
       "      <td>8.548314</td>\n",
       "      <td>1.059816</td>\n",
       "      <td>0.000000</td>\n",
       "      <td>443.0</td>\n",
       "      <td>0.421560</td>\n",
       "      <td>463.000000</td>\n",
       "      <td>95.0</td>\n",
       "    </tr>\n",
       "    <tr>\n",
       "      <th>2022-02-23 08:47:03</th>\n",
       "      <td>47.376599</td>\n",
       "      <td>8.548308</td>\n",
       "      <td>1.062158</td>\n",
       "      <td>175.921617</td>\n",
       "      <td>447.0</td>\n",
       "      <td>1.127400</td>\n",
       "      <td>462.799988</td>\n",
       "      <td>96.0</td>\n",
       "    </tr>\n",
       "    <tr>\n",
       "      <th>2022-02-23 08:47:05</th>\n",
       "      <td>47.376596</td>\n",
       "      <td>8.548309</td>\n",
       "      <td>1.062512</td>\n",
       "      <td>140.687317</td>\n",
       "      <td>449.0</td>\n",
       "      <td>0.632571</td>\n",
       "      <td>462.600006</td>\n",
       "      <td>97.0</td>\n",
       "    </tr>\n",
       "    <tr>\n",
       "      <th>2022-02-23 08:47:17</th>\n",
       "      <td>47.376587</td>\n",
       "      <td>8.548333</td>\n",
       "      <td>1.064528</td>\n",
       "      <td>120.021323</td>\n",
       "      <td>461.0</td>\n",
       "      <td>0.604800</td>\n",
       "      <td>462.799988</td>\n",
       "      <td>96.0</td>\n",
       "    </tr>\n",
       "  </tbody>\n",
       "</table>\n",
       "<p>133 rows × 8 columns</p>\n",
       "</div>"
      ],
      "text/plain": [
       "                     latitude (°)  longitude (°)  distance (km)  compass (°)  \\\n",
       "time                                                                           \n",
       "2022-02-23 08:39:36     47.368662       8.547207       0.000000    83.406423   \n",
       "2022-02-23 08:39:43     47.368678       8.547410       0.015467    81.915654   \n",
       "2022-02-23 08:39:46     47.368686       8.547476       0.020468   105.451733   \n",
       "2022-02-23 08:39:47     47.368671       8.547501       0.023044   116.425114   \n",
       "2022-02-23 08:39:49     47.368661       8.547565       0.027924    73.407514   \n",
       "...                           ...            ...            ...          ...   \n",
       "2022-02-23 08:46:58     47.376619       8.548314       1.059816     0.000000   \n",
       "2022-02-23 08:46:59     47.376619       8.548314       1.059816     0.000000   \n",
       "2022-02-23 08:47:03     47.376599       8.548308       1.062158   175.921617   \n",
       "2022-02-23 08:47:05     47.376596       8.548309       1.062512   140.687317   \n",
       "2022-02-23 08:47:17     47.376587       8.548333       1.064528   120.021323   \n",
       "\n",
       "                     duration (s)  velocity (km/h)  elevation (m)  \\\n",
       "time                                                                \n",
       "2022-02-23 08:39:36           0.0         7.954457     430.000000   \n",
       "2022-02-23 08:39:43           7.0         6.587177     430.200012   \n",
       "2022-02-23 08:39:46          10.0         8.455500     430.600006   \n",
       "2022-02-23 08:39:47          11.0         9.110400     430.799988   \n",
       "2022-02-23 08:39:49          13.0         9.477600     431.000000   \n",
       "...                           ...              ...            ...   \n",
       "2022-02-23 08:46:58         442.0         0.000000     463.000000   \n",
       "2022-02-23 08:46:59         443.0         0.421560     463.000000   \n",
       "2022-02-23 08:47:03         447.0         1.127400     462.799988   \n",
       "2022-02-23 08:47:05         449.0         0.632571     462.600006   \n",
       "2022-02-23 08:47:17         461.0         0.604800     462.799988   \n",
       "\n",
       "                     heartrate (bpm)  \n",
       "time                                  \n",
       "2022-02-23 08:39:36            120.0  \n",
       "2022-02-23 08:39:43            119.0  \n",
       "2022-02-23 08:39:46            121.0  \n",
       "2022-02-23 08:39:47            121.0  \n",
       "2022-02-23 08:39:49            119.0  \n",
       "...                              ...  \n",
       "2022-02-23 08:46:58             95.0  \n",
       "2022-02-23 08:46:59             95.0  \n",
       "2022-02-23 08:47:03             96.0  \n",
       "2022-02-23 08:47:05             97.0  \n",
       "2022-02-23 08:47:17             96.0  \n",
       "\n",
       "[133 rows x 8 columns]"
      ]
     },
     "execution_count": 4,
     "metadata": {},
     "output_type": "execute_result"
    }
   ],
   "source": [
    "track.data"
   ]
  },
  {
   "cell_type": "code",
   "execution_count": 5,
   "id": "59a71a79",
   "metadata": {},
   "outputs": [
    {
     "data": {
      "text/plain": [
       "time\n",
       "2022-02-23 08:39:36    120.0\n",
       "2022-02-23 08:39:43    119.0\n",
       "2022-02-23 08:39:46    121.0\n",
       "2022-02-23 08:39:47    121.0\n",
       "2022-02-23 08:39:49    119.0\n",
       "                       ...  \n",
       "2022-02-23 08:46:58     95.0\n",
       "2022-02-23 08:46:59     95.0\n",
       "2022-02-23 08:47:03     96.0\n",
       "2022-02-23 08:47:05     97.0\n",
       "2022-02-23 08:47:17     96.0\n",
       "Name: heartrate (bpm), Length: 133, dtype: float64"
      ]
     },
     "execution_count": 5,
     "metadata": {},
     "output_type": "execute_result"
    }
   ],
   "source": [
    "track.data[\"heartrate (bpm)\"]"
   ]
  },
  {
   "cell_type": "code",
   "execution_count": 7,
   "id": "6466e9ff",
   "metadata": {},
   "outputs": [
    {
     "data": {
      "text/plain": [
       "<AxesSubplot:xlabel='time', ylabel='heartrate (bpm)'>"
      ]
     },
     "execution_count": 7,
     "metadata": {},
     "output_type": "execute_result"
    },
    {
     "data": {
      "image/png": "[encoded data removed]",
      "text/plain": [
       "<Figure size 432x288 with 1 Axes>"
      ]
     },
     "metadata": {
      "needs_background": "light"
     },
     "output_type": "display_data"
    }
   ],
   "source": [
    "track.plot('th')"
   ]
  },
  {
   "cell_type": "code",
   "execution_count": 20,
   "id": "46bddb9e",
   "metadata": {},
   "outputs": [
    {
     "ename": "TypeError",
     "evalue": "no numeric data to plot",
     "output_type": "error",
     "traceback": [
      "\u001b[0;31m---------------------------------------------------------------------------\u001b[0m",
      "\u001b[0;31mTypeError\u001b[0m                                 Traceback (most recent call last)",
      "Input \u001b[0;32mIn [20]\u001b[0m, in \u001b[0;36m<cell line: 1>\u001b[0;34m()\u001b[0m\n\u001b[0;32m----> 1\u001b[0m \u001b[43mtrack\u001b[49m\u001b[38;5;241;43m.\u001b[39;49m\u001b[43mdata\u001b[49m\u001b[38;5;241;43m.\u001b[39;49m\u001b[43mplot\u001b[49m\u001b[43m(\u001b[49m\u001b[43my\u001b[49m\u001b[38;5;241;43m=\u001b[39;49m\u001b[38;5;124;43m'\u001b[39;49m\u001b[38;5;124;43mheartrate (bpm)\u001b[39;49m\u001b[38;5;124;43m'\u001b[39;49m\u001b[43m,\u001b[49m\u001b[43m \u001b[49m\u001b[43mgrid\u001b[49m\u001b[38;5;241;43m=\u001b[39;49m\u001b[38;5;28;43;01mTrue\u001b[39;49;00m\u001b[43m,\u001b[49m\u001b[43m \u001b[49m\u001b[43mstyle\u001b[49m\u001b[38;5;241;43m=\u001b[39;49m\u001b[38;5;124;43m'\u001b[39;49m\u001b[38;5;124;43m-r\u001b[39;49m\u001b[38;5;124;43m'\u001b[39;49m\u001b[43m)\u001b[49m\n",
      "File \u001b[0;32m~/opt/anaconda3/envs/track-rides-nb/lib/python3.9/site-packages/pandas/plotting/_core.py:972\u001b[0m, in \u001b[0;36mPlotAccessor.__call__\u001b[0;34m(self, *args, **kwargs)\u001b[0m\n\u001b[1;32m    969\u001b[0m             label_name \u001b[38;5;241m=\u001b[39m label_kw \u001b[38;5;129;01mor\u001b[39;00m data\u001b[38;5;241m.\u001b[39mcolumns\n\u001b[1;32m    970\u001b[0m             data\u001b[38;5;241m.\u001b[39mcolumns \u001b[38;5;241m=\u001b[39m label_name\n\u001b[0;32m--> 972\u001b[0m \u001b[38;5;28;01mreturn\u001b[39;00m \u001b[43mplot_backend\u001b[49m\u001b[38;5;241;43m.\u001b[39;49m\u001b[43mplot\u001b[49m\u001b[43m(\u001b[49m\u001b[43mdata\u001b[49m\u001b[43m,\u001b[49m\u001b[43m \u001b[49m\u001b[43mkind\u001b[49m\u001b[38;5;241;43m=\u001b[39;49m\u001b[43mkind\u001b[49m\u001b[43m,\u001b[49m\u001b[43m \u001b[49m\u001b[38;5;241;43m*\u001b[39;49m\u001b[38;5;241;43m*\u001b[39;49m\u001b[43mkwargs\u001b[49m\u001b[43m)\u001b[49m\n",
      "File \u001b[0;32m~/opt/anaconda3/envs/track-rides-nb/lib/python3.9/site-packages/pandas/plotting/_matplotlib/__init__.py:71\u001b[0m, in \u001b[0;36mplot\u001b[0;34m(data, kind, **kwargs)\u001b[0m\n\u001b[1;32m     69\u001b[0m         kwargs[\u001b[38;5;124m\"\u001b[39m\u001b[38;5;124max\u001b[39m\u001b[38;5;124m\"\u001b[39m] \u001b[38;5;241m=\u001b[39m \u001b[38;5;28mgetattr\u001b[39m(ax, \u001b[38;5;124m\"\u001b[39m\u001b[38;5;124mleft_ax\u001b[39m\u001b[38;5;124m\"\u001b[39m, ax)\n\u001b[1;32m     70\u001b[0m plot_obj \u001b[38;5;241m=\u001b[39m PLOT_CLASSES[kind](data, \u001b[38;5;241m*\u001b[39m\u001b[38;5;241m*\u001b[39mkwargs)\n\u001b[0;32m---> 71\u001b[0m \u001b[43mplot_obj\u001b[49m\u001b[38;5;241;43m.\u001b[39;49m\u001b[43mgenerate\u001b[49m\u001b[43m(\u001b[49m\u001b[43m)\u001b[49m\n\u001b[1;32m     72\u001b[0m plot_obj\u001b[38;5;241m.\u001b[39mdraw()\n\u001b[1;32m     73\u001b[0m \u001b[38;5;28;01mreturn\u001b[39;00m plot_obj\u001b[38;5;241m.\u001b[39mresult\n",
      "File \u001b[0;32m~/opt/anaconda3/envs/track-rides-nb/lib/python3.9/site-packages/pandas/plotting/_matplotlib/core.py:327\u001b[0m, in \u001b[0;36mMPLPlot.generate\u001b[0;34m(self)\u001b[0m\n\u001b[1;32m    325\u001b[0m \u001b[38;5;28;01mdef\u001b[39;00m \u001b[38;5;21mgenerate\u001b[39m(\u001b[38;5;28mself\u001b[39m):\n\u001b[1;32m    326\u001b[0m     \u001b[38;5;28mself\u001b[39m\u001b[38;5;241m.\u001b[39m_args_adjust()\n\u001b[0;32m--> 327\u001b[0m     \u001b[38;5;28;43mself\u001b[39;49m\u001b[38;5;241;43m.\u001b[39;49m\u001b[43m_compute_plot_data\u001b[49m\u001b[43m(\u001b[49m\u001b[43m)\u001b[49m\n\u001b[1;32m    328\u001b[0m     \u001b[38;5;28mself\u001b[39m\u001b[38;5;241m.\u001b[39m_setup_subplots()\n\u001b[1;32m    329\u001b[0m     \u001b[38;5;28mself\u001b[39m\u001b[38;5;241m.\u001b[39m_make_plot()\n",
      "File \u001b[0;32m~/opt/anaconda3/envs/track-rides-nb/lib/python3.9/site-packages/pandas/plotting/_matplotlib/core.py:506\u001b[0m, in \u001b[0;36mMPLPlot._compute_plot_data\u001b[0;34m(self)\u001b[0m\n\u001b[1;32m    504\u001b[0m \u001b[38;5;66;03m# no non-numeric frames or series allowed\u001b[39;00m\n\u001b[1;32m    505\u001b[0m \u001b[38;5;28;01mif\u001b[39;00m is_empty:\n\u001b[0;32m--> 506\u001b[0m     \u001b[38;5;28;01mraise\u001b[39;00m \u001b[38;5;167;01mTypeError\u001b[39;00m(\u001b[38;5;124m\"\u001b[39m\u001b[38;5;124mno numeric data to plot\u001b[39m\u001b[38;5;124m\"\u001b[39m)\n\u001b[1;32m    508\u001b[0m \u001b[38;5;28mself\u001b[39m\u001b[38;5;241m.\u001b[39mdata \u001b[38;5;241m=\u001b[39m numeric_data\u001b[38;5;241m.\u001b[39mapply(\u001b[38;5;28mself\u001b[39m\u001b[38;5;241m.\u001b[39m_convert_to_ndarray)\n",
      "\u001b[0;31mTypeError\u001b[0m: no numeric data to plot"
     ]
    }
   ],
   "source": [
    "track.data.plot(y='heartrate (bpm)', grid=True, style='-r')"
   ]
  },
  {
   "cell_type": "code",
   "execution_count": 28,
   "id": "769abc7b",
   "metadata": {},
   "outputs": [
    {
     "data": {
      "text/plain": [
       "array(['120', '119', '121', '121', '119', '118', '118', '118', '117',\n",
       "       '114', '112', '111', '111', '113', '116', '116', '116', '116',\n",
       "       '115', '112', '111', '111', '107', '103', '102', '103', '104',\n",
       "       '105', '108', '111', '114', '116', '119', '121', '121', '122',\n",
       "       '121', '122', '121', '120', '119', '116', '116', '116', '115',\n",
       "       '115', '115', '116', '116', '117', '117', '113', '114', '115',\n",
       "       '118', '118', '118', '119', '119', '119', '119', '120', '121',\n",
       "       '122', '122', '122', '124', '123', '123', '123', '122', '123',\n",
       "       '122', '119', '120', '119', '119', '119', '120', '120', '117',\n",
       "       '117', '118', '117', '114', '114', '116', '117', '118', '121',\n",
       "       '122', '125', '125', '124', '124', '124', '124', '124', '124',\n",
       "       '124', '124', '123', '123', '120', '116', '114', '114', '111',\n",
       "       '111', '108', '108', '105', '104', '101', '100', '102', '102',\n",
       "       '103', '103', '103', '103', '101', '101', '101', '101', '100',\n",
       "       '100', '98', '95', '95', '96', '97', '96'], dtype='<U3')"
      ]
     },
     "execution_count": 28,
     "metadata": {},
     "output_type": "execute_result"
    }
   ],
   "source": [
    "track.heartrate"
   ]
  }
 ],
 "metadata": {
  "kernelspec": {
   "display_name": "Python 3 (ipykernel)",
   "language": "python",
   "name": "python3"
  },
  "language_info": {
   "codemirror_mode": {
    "name": "ipython",
    "version": 3
   },
   "file_extension": ".py",
   "mimetype": "text/x-python",
   "name": "python",
   "nbconvert_exporter": "python",
   "pygments_lexer": "ipython3",
   "version": "3.9.11"
  }
 },
 "nbformat": 4,
 "nbformat_minor": 5
}
